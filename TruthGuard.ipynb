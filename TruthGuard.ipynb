{
  "nbformat": 4,
  "nbformat_minor": 0,
  "metadata": {
    "colab": {
      "provenance": [],
      "gpuType": "T4"
    },
    "kernelspec": {
      "name": "python3",
      "display_name": "Python 3"
    },
    "language_info": {
      "name": "python"
    },
    "accelerator": "GPU"
  },
  "cells": [
    {
      "cell_type": "code",
      "execution_count": null,
      "metadata": {
        "colab": {
          "base_uri": "https://localhost:8080/"
        },
        "id": "lYAmuFri_VYl",
        "outputId": "fc2412db-c272-4949-c6c5-a3f7d4694914"
      },
      "outputs": [
        {
          "output_type": "stream",
          "name": "stdout",
          "text": [
            "Cleaning successful! Final shape: (62613, 5)\n"
          ]
        }
      ],
      "source": [
        "import pandas as pd\n",
        "import re\n",
        "import nltk\n",
        "from nltk.corpus import stopwords\n",
        "from nltk.stem import WordNetLemmatizer\n",
        "\n",
        "# Set NLTK data path explicitly (critical for Colab/Jupyter)\n",
        "nltk.data.path.append(\"/root/nltk_data\")  # Or your custom path\n",
        "\n",
        "# Download ALL required resources (even if they seem installed)\n",
        "nltk.download('stopwords', quiet=True)\n",
        "nltk.download('wordnet', quiet=True)\n",
        "nltk.download('punkt', quiet=True)\n",
        "nltk.download('punkt_tab', quiet=True)  # Fixes LookupError\n",
        "\n",
        "def clean_text(text):\n",
        "    if pd.isna(text):\n",
        "        return \"\"\n",
        "\n",
        "    text = text.lower()\n",
        "    text = re.sub(r'http\\S+', '', text)  # Remove URLs\n",
        "    text = re.sub(r'[^a-zA-Z\\s]', '', text)  # Keep only letters\n",
        "\n",
        "    # Tokenize with punkt\n",
        "    try:\n",
        "        tokens = nltk.word_tokenize(text)\n",
        "    except LookupError:\n",
        "        nltk.download('punkt')\n",
        "        tokens = nltk.word_tokenize(text)\n",
        "\n",
        "    # Remove stopwords and lemmatize\n",
        "    stop_words = set(stopwords.words('english'))\n",
        "    lemmatizer = WordNetLemmatizer()\n",
        "    filtered = [lemmatizer.lemmatize(word) for word in tokens if word not in stop_words]\n",
        "\n",
        "    return ' '.join(filtered)\n",
        "\n",
        "# Load data and clean\n",
        "df = pd.read_csv('WELFake_Dataset.csv')\n",
        "df = df.dropna(subset=['text']).drop_duplicates(subset=['text'])\n",
        "df['cleaned_text'] = df['text'].apply(clean_text)\n",
        "df = df[df['cleaned_text'].str.strip().astype(bool)]  # Remove empty texts\n",
        "df.to_csv('cleaned_data.csv', index=False)\n",
        "print(\"Cleaning successful! Final shape:\", df.shape)"
      ]
    },
    {
      "cell_type": "code",
      "source": [
        "df_cleaned = pd.read_csv('cleaned_data.csv')\n",
        "df_cleaned.head()"
      ],
      "metadata": {
        "colab": {
          "base_uri": "https://localhost:8080/",
          "height": 258
        },
        "id": "hTiVmRBZDRQU",
        "outputId": "6e33e58f-fea9-4085-a3f7-49b506d6ff2d"
      },
      "execution_count": null,
      "outputs": [
        {
          "output_type": "execute_result",
          "data": {
            "text/plain": [
              "   Unnamed: 0                                              title  \\\n",
              "0           0  LAW ENFORCEMENT ON HIGH ALERT Following Threat...   \n",
              "1           1                                                NaN   \n",
              "2           2  UNBELIEVABLE! OBAMA’S ATTORNEY GENERAL SAYS MO...   \n",
              "3           3  Bobby Jindal, raised Hindu, uses story of Chri...   \n",
              "4           4  SATAN 2: Russia unvelis an image of its terrif...   \n",
              "\n",
              "                                                text  label  \\\n",
              "0  No comment is expected from Barack Obama Membe...      1   \n",
              "1     Did they post their votes for Hillary already?      1   \n",
              "2   Now, most of the demonstrators gathered last ...      1   \n",
              "3  A dozen politically active pastors came here f...      0   \n",
              "4  The RS-28 Sarmat missile, dubbed Satan 2, will...      1   \n",
              "\n",
              "                                        cleaned_text  \n",
              "0  comment expected barack obama member fyf fukyo...  \n",
              "1                          post vote hillary already  \n",
              "2  demonstrator gathered last night exercising co...  \n",
              "3  dozen politically active pastor came private d...  \n",
              "4  r sarmat missile dubbed satan replace s fly mi...  "
            ],
            "text/html": [
              "\n",
              "  <div id=\"df-f0b4671d-1a53-4e02-8882-bc59faa2c8dd\" class=\"colab-df-container\">\n",
              "    <div>\n",
              "<style scoped>\n",
              "    .dataframe tbody tr th:only-of-type {\n",
              "        vertical-align: middle;\n",
              "    }\n",
              "\n",
              "    .dataframe tbody tr th {\n",
              "        vertical-align: top;\n",
              "    }\n",
              "\n",
              "    .dataframe thead th {\n",
              "        text-align: right;\n",
              "    }\n",
              "</style>\n",
              "<table border=\"1\" class=\"dataframe\">\n",
              "  <thead>\n",
              "    <tr style=\"text-align: right;\">\n",
              "      <th></th>\n",
              "      <th>Unnamed: 0</th>\n",
              "      <th>title</th>\n",
              "      <th>text</th>\n",
              "      <th>label</th>\n",
              "      <th>cleaned_text</th>\n",
              "    </tr>\n",
              "  </thead>\n",
              "  <tbody>\n",
              "    <tr>\n",
              "      <th>0</th>\n",
              "      <td>0</td>\n",
              "      <td>LAW ENFORCEMENT ON HIGH ALERT Following Threat...</td>\n",
              "      <td>No comment is expected from Barack Obama Membe...</td>\n",
              "      <td>1</td>\n",
              "      <td>comment expected barack obama member fyf fukyo...</td>\n",
              "    </tr>\n",
              "    <tr>\n",
              "      <th>1</th>\n",
              "      <td>1</td>\n",
              "      <td>NaN</td>\n",
              "      <td>Did they post their votes for Hillary already?</td>\n",
              "      <td>1</td>\n",
              "      <td>post vote hillary already</td>\n",
              "    </tr>\n",
              "    <tr>\n",
              "      <th>2</th>\n",
              "      <td>2</td>\n",
              "      <td>UNBELIEVABLE! OBAMA’S ATTORNEY GENERAL SAYS MO...</td>\n",
              "      <td>Now, most of the demonstrators gathered last ...</td>\n",
              "      <td>1</td>\n",
              "      <td>demonstrator gathered last night exercising co...</td>\n",
              "    </tr>\n",
              "    <tr>\n",
              "      <th>3</th>\n",
              "      <td>3</td>\n",
              "      <td>Bobby Jindal, raised Hindu, uses story of Chri...</td>\n",
              "      <td>A dozen politically active pastors came here f...</td>\n",
              "      <td>0</td>\n",
              "      <td>dozen politically active pastor came private d...</td>\n",
              "    </tr>\n",
              "    <tr>\n",
              "      <th>4</th>\n",
              "      <td>4</td>\n",
              "      <td>SATAN 2: Russia unvelis an image of its terrif...</td>\n",
              "      <td>The RS-28 Sarmat missile, dubbed Satan 2, will...</td>\n",
              "      <td>1</td>\n",
              "      <td>r sarmat missile dubbed satan replace s fly mi...</td>\n",
              "    </tr>\n",
              "  </tbody>\n",
              "</table>\n",
              "</div>\n",
              "    <div class=\"colab-df-buttons\">\n",
              "\n",
              "  <div class=\"colab-df-container\">\n",
              "    <button class=\"colab-df-convert\" onclick=\"convertToInteractive('df-f0b4671d-1a53-4e02-8882-bc59faa2c8dd')\"\n",
              "            title=\"Convert this dataframe to an interactive table.\"\n",
              "            style=\"display:none;\">\n",
              "\n",
              "  <svg xmlns=\"http://www.w3.org/2000/svg\" height=\"24px\" viewBox=\"0 -960 960 960\">\n",
              "    <path d=\"M120-120v-720h720v720H120Zm60-500h600v-160H180v160Zm220 220h160v-160H400v160Zm0 220h160v-160H400v160ZM180-400h160v-160H180v160Zm440 0h160v-160H620v160ZM180-180h160v-160H180v160Zm440 0h160v-160H620v160Z\"/>\n",
              "  </svg>\n",
              "    </button>\n",
              "\n",
              "  <style>\n",
              "    .colab-df-container {\n",
              "      display:flex;\n",
              "      gap: 12px;\n",
              "    }\n",
              "\n",
              "    .colab-df-convert {\n",
              "      background-color: #E8F0FE;\n",
              "      border: none;\n",
              "      border-radius: 50%;\n",
              "      cursor: pointer;\n",
              "      display: none;\n",
              "      fill: #1967D2;\n",
              "      height: 32px;\n",
              "      padding: 0 0 0 0;\n",
              "      width: 32px;\n",
              "    }\n",
              "\n",
              "    .colab-df-convert:hover {\n",
              "      background-color: #E2EBFA;\n",
              "      box-shadow: 0px 1px 2px rgba(60, 64, 67, 0.3), 0px 1px 3px 1px rgba(60, 64, 67, 0.15);\n",
              "      fill: #174EA6;\n",
              "    }\n",
              "\n",
              "    .colab-df-buttons div {\n",
              "      margin-bottom: 4px;\n",
              "    }\n",
              "\n",
              "    [theme=dark] .colab-df-convert {\n",
              "      background-color: #3B4455;\n",
              "      fill: #D2E3FC;\n",
              "    }\n",
              "\n",
              "    [theme=dark] .colab-df-convert:hover {\n",
              "      background-color: #434B5C;\n",
              "      box-shadow: 0px 1px 3px 1px rgba(0, 0, 0, 0.15);\n",
              "      filter: drop-shadow(0px 1px 2px rgba(0, 0, 0, 0.3));\n",
              "      fill: #FFFFFF;\n",
              "    }\n",
              "  </style>\n",
              "\n",
              "    <script>\n",
              "      const buttonEl =\n",
              "        document.querySelector('#df-f0b4671d-1a53-4e02-8882-bc59faa2c8dd button.colab-df-convert');\n",
              "      buttonEl.style.display =\n",
              "        google.colab.kernel.accessAllowed ? 'block' : 'none';\n",
              "\n",
              "      async function convertToInteractive(key) {\n",
              "        const element = document.querySelector('#df-f0b4671d-1a53-4e02-8882-bc59faa2c8dd');\n",
              "        const dataTable =\n",
              "          await google.colab.kernel.invokeFunction('convertToInteractive',\n",
              "                                                    [key], {});\n",
              "        if (!dataTable) return;\n",
              "\n",
              "        const docLinkHtml = 'Like what you see? Visit the ' +\n",
              "          '<a target=\"_blank\" href=https://colab.research.google.com/notebooks/data_table.ipynb>data table notebook</a>'\n",
              "          + ' to learn more about interactive tables.';\n",
              "        element.innerHTML = '';\n",
              "        dataTable['output_type'] = 'display_data';\n",
              "        await google.colab.output.renderOutput(dataTable, element);\n",
              "        const docLink = document.createElement('div');\n",
              "        docLink.innerHTML = docLinkHtml;\n",
              "        element.appendChild(docLink);\n",
              "      }\n",
              "    </script>\n",
              "  </div>\n",
              "\n",
              "\n",
              "<div id=\"df-65edebfa-899c-4901-b369-85265e04351b\">\n",
              "  <button class=\"colab-df-quickchart\" onclick=\"quickchart('df-65edebfa-899c-4901-b369-85265e04351b')\"\n",
              "            title=\"Suggest charts\"\n",
              "            style=\"display:none;\">\n",
              "\n",
              "<svg xmlns=\"http://www.w3.org/2000/svg\" height=\"24px\"viewBox=\"0 0 24 24\"\n",
              "     width=\"24px\">\n",
              "    <g>\n",
              "        <path d=\"M19 3H5c-1.1 0-2 .9-2 2v14c0 1.1.9 2 2 2h14c1.1 0 2-.9 2-2V5c0-1.1-.9-2-2-2zM9 17H7v-7h2v7zm4 0h-2V7h2v10zm4 0h-2v-4h2v4z\"/>\n",
              "    </g>\n",
              "</svg>\n",
              "  </button>\n",
              "\n",
              "<style>\n",
              "  .colab-df-quickchart {\n",
              "      --bg-color: #E8F0FE;\n",
              "      --fill-color: #1967D2;\n",
              "      --hover-bg-color: #E2EBFA;\n",
              "      --hover-fill-color: #174EA6;\n",
              "      --disabled-fill-color: #AAA;\n",
              "      --disabled-bg-color: #DDD;\n",
              "  }\n",
              "\n",
              "  [theme=dark] .colab-df-quickchart {\n",
              "      --bg-color: #3B4455;\n",
              "      --fill-color: #D2E3FC;\n",
              "      --hover-bg-color: #434B5C;\n",
              "      --hover-fill-color: #FFFFFF;\n",
              "      --disabled-bg-color: #3B4455;\n",
              "      --disabled-fill-color: #666;\n",
              "  }\n",
              "\n",
              "  .colab-df-quickchart {\n",
              "    background-color: var(--bg-color);\n",
              "    border: none;\n",
              "    border-radius: 50%;\n",
              "    cursor: pointer;\n",
              "    display: none;\n",
              "    fill: var(--fill-color);\n",
              "    height: 32px;\n",
              "    padding: 0;\n",
              "    width: 32px;\n",
              "  }\n",
              "\n",
              "  .colab-df-quickchart:hover {\n",
              "    background-color: var(--hover-bg-color);\n",
              "    box-shadow: 0 1px 2px rgba(60, 64, 67, 0.3), 0 1px 3px 1px rgba(60, 64, 67, 0.15);\n",
              "    fill: var(--button-hover-fill-color);\n",
              "  }\n",
              "\n",
              "  .colab-df-quickchart-complete:disabled,\n",
              "  .colab-df-quickchart-complete:disabled:hover {\n",
              "    background-color: var(--disabled-bg-color);\n",
              "    fill: var(--disabled-fill-color);\n",
              "    box-shadow: none;\n",
              "  }\n",
              "\n",
              "  .colab-df-spinner {\n",
              "    border: 2px solid var(--fill-color);\n",
              "    border-color: transparent;\n",
              "    border-bottom-color: var(--fill-color);\n",
              "    animation:\n",
              "      spin 1s steps(1) infinite;\n",
              "  }\n",
              "\n",
              "  @keyframes spin {\n",
              "    0% {\n",
              "      border-color: transparent;\n",
              "      border-bottom-color: var(--fill-color);\n",
              "      border-left-color: var(--fill-color);\n",
              "    }\n",
              "    20% {\n",
              "      border-color: transparent;\n",
              "      border-left-color: var(--fill-color);\n",
              "      border-top-color: var(--fill-color);\n",
              "    }\n",
              "    30% {\n",
              "      border-color: transparent;\n",
              "      border-left-color: var(--fill-color);\n",
              "      border-top-color: var(--fill-color);\n",
              "      border-right-color: var(--fill-color);\n",
              "    }\n",
              "    40% {\n",
              "      border-color: transparent;\n",
              "      border-right-color: var(--fill-color);\n",
              "      border-top-color: var(--fill-color);\n",
              "    }\n",
              "    60% {\n",
              "      border-color: transparent;\n",
              "      border-right-color: var(--fill-color);\n",
              "    }\n",
              "    80% {\n",
              "      border-color: transparent;\n",
              "      border-right-color: var(--fill-color);\n",
              "      border-bottom-color: var(--fill-color);\n",
              "    }\n",
              "    90% {\n",
              "      border-color: transparent;\n",
              "      border-bottom-color: var(--fill-color);\n",
              "    }\n",
              "  }\n",
              "</style>\n",
              "\n",
              "  <script>\n",
              "    async function quickchart(key) {\n",
              "      const quickchartButtonEl =\n",
              "        document.querySelector('#' + key + ' button');\n",
              "      quickchartButtonEl.disabled = true;  // To prevent multiple clicks.\n",
              "      quickchartButtonEl.classList.add('colab-df-spinner');\n",
              "      try {\n",
              "        const charts = await google.colab.kernel.invokeFunction(\n",
              "            'suggestCharts', [key], {});\n",
              "      } catch (error) {\n",
              "        console.error('Error during call to suggestCharts:', error);\n",
              "      }\n",
              "      quickchartButtonEl.classList.remove('colab-df-spinner');\n",
              "      quickchartButtonEl.classList.add('colab-df-quickchart-complete');\n",
              "    }\n",
              "    (() => {\n",
              "      let quickchartButtonEl =\n",
              "        document.querySelector('#df-65edebfa-899c-4901-b369-85265e04351b button');\n",
              "      quickchartButtonEl.style.display =\n",
              "        google.colab.kernel.accessAllowed ? 'block' : 'none';\n",
              "    })();\n",
              "  </script>\n",
              "</div>\n",
              "\n",
              "    </div>\n",
              "  </div>\n"
            ],
            "application/vnd.google.colaboratory.intrinsic+json": {
              "type": "dataframe",
              "variable_name": "df_cleaned",
              "summary": "{\n  \"name\": \"df_cleaned\",\n  \"rows\": 62613,\n  \"fields\": [\n    {\n      \"column\": \"Unnamed: 0\",\n      \"properties\": {\n        \"dtype\": \"number\",\n        \"std\": 20781,\n        \"min\": 0,\n        \"max\": 72132,\n        \"num_unique_values\": 62613,\n        \"samples\": [\n          19745,\n          59128,\n          5525\n        ],\n        \"semantic_type\": \"\",\n        \"description\": \"\"\n      }\n    },\n    {\n      \"column\": \"title\",\n      \"properties\": {\n        \"dtype\": \"string\",\n        \"num_unique_values\": 61296,\n        \"samples\": [\n          \" Married GOP Lawmaker And Trump Campaign Member BUSTED In Hotel With Teenage Boy\",\n          \"\\u201cONE OF THE CORRUPT WOMEN IN CONGRESS\\u201d Says Democrats Are Too Nice\\u2026She Won\\u2019t Work With Trump [VIDEO]\",\n          \"The Iowa caucuses are closer than you think\"\n        ],\n        \"semantic_type\": \"\",\n        \"description\": \"\"\n      }\n    },\n    {\n      \"column\": \"text\",\n      \"properties\": {\n        \"dtype\": \"string\",\n        \"num_unique_values\": 62613,\n        \"samples\": [\n          \"WASHINGTON (Reuters) - U.S. Democratic Senator Al Franken, facing allegations of sexual misconduct, will resign on Thursday, Minnesota Public Radio reported on Wednesday, citing an unnamed Democratic official. A Franken staff member told the Democratic official that the Minnesota senator had gone to his home in Washington to discuss his plans with family, Minnesota Public Radio said. Franken said on Twitter earlier on Wednesday he would make an announcement on Thursday. \",\n          \"Reality show star turned president Donald Trump has a limited vocabulary. French translators have noticed that, too, and say they are having a tough time translating Trump s speeches into the language of Moli re. Trump is not a great orator, which is something we ve all be subjected to. Words like,  sad!  are used in his tweets as if that s a complete sentence. Trump said  bigly  when he really meant  big league.  Or maybe he didn t mean  big league.  We ll never really know. After Trump gives a speech, his supporters inevitably jump in to explain to the rest of us what he really meant.Translator B reng re Viennot told the LA Review of Books, you have to be able to get into someone s mind  to translate the speaker but  when he (Trump) speaks he seems not to know quite where he s going. He seems to hang onto a word in the question, or to a word that pops into his mind, repeating it over and over again,  said Viennot.  He shapes his thought around it and, sometimes, succeeds in giving part of an answer   often the same answer: namely, that he won the election. Trump seems to go from point A (the question) to point B (himself, most of the time) with no real logic,  she continued.  It s as if he had thematic clouds in his head that he would pick from with no need of a logical thread to link them. Trump s vocabulary is limited, his syntax is broken; he repeats the same phrases over and over, forcing the translator to follow suit,  she said.She continued to say that  reading Trump in French, which is a very structured and logical language, reveals the poor quality of his language and, consequently, of his thought. As the Independent notes, Trump once referred to  swatches of land,  when he really he meant  swathes of land. Bigly swatches of land.Photo by Scott Olson/Getty Images.\",\n          \"For the fourth time in less than two weeks, the police department in Oakland, Calif. is answering to a different leader. The changes have come as the city deals with two investigations involving its officers: a widening sex scandal and a series of racist text messages sent within the department. \\u201cAs the mayor of Oakland, I am here to run a police department, not a frat house,\\u201d Mayor Libby Schaaf said at a news conference on Friday. The sex scandal unfurled after the suicide of one of the department\\u2019s officers last fall. An    woman has since alleged in several media reports that she had sex with that officer and several others from Oakland and other police departments in the area, including some while she was a minor. \\u201cWe continue to be disgusted and outraged by the idea that anyone could abuse an underage victim of sexual exploitation,\\u201d Ms. Schaaf said in a statement on June 11. The police department\\u2019s former chief, Sean Whent, resigned on June 9. Mr. Whent\\u2019s resignation was \\u201ca personal choice, which we respect,\\u201d said Ms. Schaaf, who then named Ben Fairow the interim chief. Mr. Fairow had previously worked in the department and was serving as deputy chief for the Bay Area Rapid Transit. He lasted five days in the job. \\u201cI have just received information that has caused me to lose confidence in Ben Fairow\\u2019s ability to lead the Oakland Police Department at this particular moment in time,\\u201d the mayor said in a statement on Wednesday, announcing Mr. Fairow\\u2019s departure. She did not elaborate on specific reasons for her decision. The department\\u2019s assistant chief, Paul Figueroa, was then named acting police chief. That lasted two days: Mr. Figueroa said in a statement on Friday that he was taking leave and would return to the department as a captain. \\u201cI feel that this is an appropriate time to place civilian oversight over this police department and to send a very clear message about how serious we are about not tolerating misconduct, unethical behavior, and to root out what is clearly a toxic macho culture,\\u201d Ms. Schaaf said, in announcing that the city administrator, Sabrina Landreth, will oversee the department while a national search is conducted for a new chief. The handling of the sex scandal is being reviewed by Oakland\\u2019s district attorney and an independent investigator. The Associated Press reported that of the 14 Oakland police officers involved in the sex scandal, two have resigned and three others are on paid leave. Ms. Schaaf said the investigation into racist text messages is not related to the sex scandal or the resignation of Mr. Figueroa. \\u201cWe do think it\\u2019s relevant to share that the text messages were sent by   officers,\\u201d the mayor said. \\u201cBut they are wholly inappropriate and not acceptable from anyone who wears the badge of the Oakland Police Department. \\u201d Neither the mayor\\u2019s office nor investigators have released the text messages to the public. The mayor would not say how many officers were involved with the text messages, but said the investigation \\u201csuggests that it is not as widespread as the sex scandal. \\u201d \\u201cI want to assure the citizens of Oakland that we are hellbent on rooting out this disgusting culture,\\u201d Ms. Schaaf said.\"\n        ],\n        \"semantic_type\": \"\",\n        \"description\": \"\"\n      }\n    },\n    {\n      \"column\": \"label\",\n      \"properties\": {\n        \"dtype\": \"number\",\n        \"std\": 0,\n        \"min\": 0,\n        \"max\": 1,\n        \"num_unique_values\": 2,\n        \"samples\": [\n          0,\n          1\n        ],\n        \"semantic_type\": \"\",\n        \"description\": \"\"\n      }\n    },\n    {\n      \"column\": \"cleaned_text\",\n      \"properties\": {\n        \"dtype\": \"string\",\n        \"num_unique_values\": 62390,\n        \"samples\": [\n          \"three thing certain world death tax trump golfing every weekend today featured three waytwo day ago trump spent around million tax dollar bomb empty airbase syria symbolic attack little stop syrian government ability bomb citizen bomber reportedly back using airstrip hour later effect inflaming already high tension united state supporter syrian regime russia iranso covering death tax trump moved onto golfthe fact would go vacation day creating international crisis painfully obvious protester planned trump motorcade spotted route golf course florida sign came greet according reporter riding trump stuff trump saw put rest notion aware much country despises himpool motorcade passed group dozen protester w sign reading resign loser impeach trump outside golf course kyle griffin kylegriffin april clear yet whether trump plan lie golf outing done previous week rough count trump golfed around time since becoming president week ago many vacation done secret staff covering claim meeting inevitably picture trump golf attire hitting link turn online exposing shameless administration isthe fact protester certain trump golfing even committing america possible war syria incredibly disheartening plan day around assumption powerful person country slipping golfing shoe every single weekend hilariously criticism clearly leveled one trump biggest defender sean hannityin hannity hypocritically slammed obama playing golf syrian civil warthe war syria rage far hannity complained one trump golf outing odd undermining hannity complaint trump spent much time golfing spent quarter obama total cost travel expense first week end first year cost american taxpayer millionreport obamas travel expense eight year trump wks brandon pope tv bpopetv april featured image via ian macnicolgetty image\",\n          \"monkey spinal cord damage paralyzed one leg quickly regained ability walk wireless connection brain spinal cord injury scientist reported wednesday achievement yet another advance rapidly moving field technological treatment spinal cord damage recent year scientist achieved brain control robotic hand monkey human helped paralyzed man regain use hand chip implanted brain used electrical stimulation nerve enable paralyzed rat walk new system unusual concentrate lower body allows monkey perhaps near future human use wireless system rather tethered computer utilizes new development brain recording nerve stimulation require computer decode translate brain signal send spinal cord computer technology make wearable device feasible grgoire courtine specialist spinal cord repair swiss federal institute technology lausanne said hoped system colleague developed could transferred next year human therapy would aid rehabilitation improve recovery quality life emphasized goal better rehabilitation science fiction fix paralysis people going walk street interface foreseeable future said andrew jackson newcastle university worked upper body paralysis involved study said research another key milestone research treating paralysis dr jackson wrote commentary research journal nature published report dr courtine marco capogrosso tomislav milekovic swiss institute international team scientist among reason system miracle fix paralysis relay impulse extend bend leg right time fit gait subtle movement involving change direction navigating obstacle human present different challenge well instance term balance rather walking research conducted collaborator china dr courtine said swiss restriction animal experiment time would allow work work proving successful permission proceed similar experiment switzerland said dr courtine written ethical issue involved experiment primate emphasized year research rodent necessary prepare work monkey one reason one leg paralyzed animal function even without use one leg retain bladder bowel control whereas complete severing spinal cord devastating animal quality life said kind work promise human being suffered spinal cord damage pursued people without testing primate first brain recording stimulation spinal cord involve device already use human purpose brain decoding software used people david borton brown university one primary author new report developed wireless sensor colleague doctoral work started working dr courtine combined micro electrode record transmits impulse part brain signal move leg originate said one reason system may helpful rehabilitation strengthens remaining connection part spinal cord injured limb saying neuroscience said neuron fire together wire together brain recording device combined electrical stimulation area outside spinal cord conveyed signal reflex system walking partly brain control spinal cord system receiving input leg responding human dont think walking time brain running activity conscious awareness spinal cord reflex system running much dr courtine used electrical stimulation train paralyzed rat spinal cord injury walk work didnt involve brain one crucial part experiment timing brain say want limb move must happen within millisecond connection strengthen dr borton said\"\n        ],\n        \"semantic_type\": \"\",\n        \"description\": \"\"\n      }\n    }\n  ]\n}"
            }
          },
          "metadata": {},
          "execution_count": 3
        }
      ]
    },
    {
      "cell_type": "code",
      "source": [
        "import pandas as pd\n",
        "from sklearn.model_selection import train_test_split\n",
        "\n",
        "# Load cleaned dataset\n",
        "df = pd.read_csv('cleaned_data.csv')\n",
        "\n",
        "# Split into train/test (80/20)\n",
        "train_df, test_df = train_test_split(df, test_size=0.2, random_state=42)\n",
        "\n",
        "print(f\"Train size: {len(train_df)}, Test size: {len(test_df)}\")"
      ],
      "metadata": {
        "colab": {
          "base_uri": "https://localhost:8080/"
        },
        "id": "Wzla6uidFkON",
        "outputId": "a3bf9259-4c23-4336-ba6a-390e5f9bdc4a"
      },
      "execution_count": null,
      "outputs": [
        {
          "output_type": "stream",
          "name": "stdout",
          "text": [
            "Train size: 50090, Test size: 12523\n"
          ]
        }
      ]
    },
    {
      "cell_type": "code",
      "source": [
        "from tensorflow.keras.preprocessing.text import Tokenizer\n",
        "from tensorflow.keras.preprocessing.sequence import pad_sequences\n",
        "from tensorflow.keras.models import Sequential\n",
        "from tensorflow.keras.layers import Embedding, LSTM, Dense, Dropout\n",
        "from sklearn.metrics import accuracy_score, confusion_matrix\n",
        "import matplotlib.pyplot as plt\n",
        "import seaborn as sns\n",
        "\n",
        "# Tokenize text\n",
        "tokenizer = Tokenizer(num_words=10000)\n",
        "tokenizer.fit_on_texts(train_df['cleaned_text'])\n",
        "\n",
        "# Convert text to sequences\n",
        "X_train = tokenizer.texts_to_sequences(train_df['cleaned_text'])\n",
        "X_test = tokenizer.texts_to_sequences(test_df['cleaned_text'])\n",
        "\n",
        "# Pad sequences to fixed length\n",
        "max_len = 200  # Adjust based on your data\n",
        "X_train = pad_sequences(X_train, maxlen=max_len, padding='post')\n",
        "X_test = pad_sequences(X_test, maxlen=max_len, padding='post')\n",
        "\n",
        "# Labels\n",
        "y_train = train_df['label']\n",
        "y_test = test_df['label']\n",
        "\n",
        "# Build LSTM model\n",
        "model = Sequential([\n",
        "    Embedding(input_dim=10000, output_dim=128, input_length=max_len),\n",
        "    LSTM(128, dropout=0.2, recurrent_dropout=0.2),\n",
        "    Dense(64, activation='relu'),\n",
        "    Dropout(0.2),\n",
        "    Dense(1, activation='sigmoid')\n",
        "])\n",
        "\n",
        "model.compile(optimizer='adam', loss='binary_crossentropy', metrics=['accuracy'])\n",
        "model.summary()\n",
        "\n",
        "# Train\n",
        "history = model.fit(X_train, y_train, epochs=5, batch_size=64, validation_split=0.2)\n",
        "\n",
        "# Evaluate\n",
        "y_pred = (model.predict(X_test) > 0.5).astype(int)\n",
        "accuracy = accuracy_score(y_test, y_pred)\n",
        "print(f\"Test Accuracy: {accuracy:.4f}\")\n",
        "\n",
        "# Confusion Matrix\n",
        "cm = confusion_matrix(y_test, y_pred)\n",
        "sns.heatmap(cm, annot=True, fmt='d', cmap='Blues', xticklabels=['Fake', 'Real'], yticklabels=['Fake', 'Real'])\n",
        "plt.xlabel('Predicted')\n",
        "plt.ylabel('Actual')\n",
        "plt.title('Confusion Matrix (LSTM)')\n",
        "plt.show()\n",
        "\n",
        "# Plot training history\n",
        "plt.plot(history.history['accuracy'], label='Train Accuracy')\n",
        "plt.plot(history.history['val_accuracy'], label='Validation Accuracy')\n",
        "plt.xlabel('Epochs')\n",
        "plt.ylabel('Accuracy')\n",
        "plt.title('Training History (LSTM)')\n",
        "plt.legend()\n",
        "plt.show()"
      ],
      "metadata": {
        "colab": {
          "base_uri": "https://localhost:8080/",
          "height": 1000
        },
        "id": "Zm_2aAoNFmzD",
        "outputId": "1da8e96d-5da3-41dc-8ec4-409a3cf85343"
      },
      "execution_count": null,
      "outputs": [
        {
          "output_type": "stream",
          "name": "stderr",
          "text": [
            "/usr/local/lib/python3.11/dist-packages/keras/src/layers/core/embedding.py:90: UserWarning: Argument `input_length` is deprecated. Just remove it.\n",
            "  warnings.warn(\n"
          ]
        },
        {
          "output_type": "display_data",
          "data": {
            "text/plain": [
              "\u001b[1mModel: \"sequential\"\u001b[0m\n"
            ],
            "text/html": [
              "<pre style=\"white-space:pre;overflow-x:auto;line-height:normal;font-family:Menlo,'DejaVu Sans Mono',consolas,'Courier New',monospace\"><span style=\"font-weight: bold\">Model: \"sequential\"</span>\n",
              "</pre>\n"
            ]
          },
          "metadata": {}
        },
        {
          "output_type": "display_data",
          "data": {
            "text/plain": [
              "┏━━━━━━━━━━━━━━━━━━━━━━━━━━━━━━━━━━━━━━┳━━━━━━━━━━━━━━━━━━━━━━━━━━━━━┳━━━━━━━━━━━━━━━━━┓\n",
              "┃\u001b[1m \u001b[0m\u001b[1mLayer (type)                        \u001b[0m\u001b[1m \u001b[0m┃\u001b[1m \u001b[0m\u001b[1mOutput Shape               \u001b[0m\u001b[1m \u001b[0m┃\u001b[1m \u001b[0m\u001b[1m        Param #\u001b[0m\u001b[1m \u001b[0m┃\n",
              "┡━━━━━━━━━━━━━━━━━━━━━━━━━━━━━━━━━━━━━━╇━━━━━━━━━━━━━━━━━━━━━━━━━━━━━╇━━━━━━━━━━━━━━━━━┩\n",
              "│ embedding (\u001b[38;5;33mEmbedding\u001b[0m)                │ ?                           │     \u001b[38;5;34m0\u001b[0m (unbuilt) │\n",
              "├──────────────────────────────────────┼─────────────────────────────┼─────────────────┤\n",
              "│ lstm (\u001b[38;5;33mLSTM\u001b[0m)                          │ ?                           │     \u001b[38;5;34m0\u001b[0m (unbuilt) │\n",
              "├──────────────────────────────────────┼─────────────────────────────┼─────────────────┤\n",
              "│ dense (\u001b[38;5;33mDense\u001b[0m)                        │ ?                           │     \u001b[38;5;34m0\u001b[0m (unbuilt) │\n",
              "├──────────────────────────────────────┼─────────────────────────────┼─────────────────┤\n",
              "│ dropout (\u001b[38;5;33mDropout\u001b[0m)                    │ ?                           │               \u001b[38;5;34m0\u001b[0m │\n",
              "├──────────────────────────────────────┼─────────────────────────────┼─────────────────┤\n",
              "│ dense_1 (\u001b[38;5;33mDense\u001b[0m)                      │ ?                           │     \u001b[38;5;34m0\u001b[0m (unbuilt) │\n",
              "└──────────────────────────────────────┴─────────────────────────────┴─────────────────┘\n"
            ],
            "text/html": [
              "<pre style=\"white-space:pre;overflow-x:auto;line-height:normal;font-family:Menlo,'DejaVu Sans Mono',consolas,'Courier New',monospace\">┏━━━━━━━━━━━━━━━━━━━━━━━━━━━━━━━━━━━━━━┳━━━━━━━━━━━━━━━━━━━━━━━━━━━━━┳━━━━━━━━━━━━━━━━━┓\n",
              "┃<span style=\"font-weight: bold\"> Layer (type)                         </span>┃<span style=\"font-weight: bold\"> Output Shape                </span>┃<span style=\"font-weight: bold\">         Param # </span>┃\n",
              "┡━━━━━━━━━━━━━━━━━━━━━━━━━━━━━━━━━━━━━━╇━━━━━━━━━━━━━━━━━━━━━━━━━━━━━╇━━━━━━━━━━━━━━━━━┩\n",
              "│ embedding (<span style=\"color: #0087ff; text-decoration-color: #0087ff\">Embedding</span>)                │ ?                           │     <span style=\"color: #00af00; text-decoration-color: #00af00\">0</span> (unbuilt) │\n",
              "├──────────────────────────────────────┼─────────────────────────────┼─────────────────┤\n",
              "│ lstm (<span style=\"color: #0087ff; text-decoration-color: #0087ff\">LSTM</span>)                          │ ?                           │     <span style=\"color: #00af00; text-decoration-color: #00af00\">0</span> (unbuilt) │\n",
              "├──────────────────────────────────────┼─────────────────────────────┼─────────────────┤\n",
              "│ dense (<span style=\"color: #0087ff; text-decoration-color: #0087ff\">Dense</span>)                        │ ?                           │     <span style=\"color: #00af00; text-decoration-color: #00af00\">0</span> (unbuilt) │\n",
              "├──────────────────────────────────────┼─────────────────────────────┼─────────────────┤\n",
              "│ dropout (<span style=\"color: #0087ff; text-decoration-color: #0087ff\">Dropout</span>)                    │ ?                           │               <span style=\"color: #00af00; text-decoration-color: #00af00\">0</span> │\n",
              "├──────────────────────────────────────┼─────────────────────────────┼─────────────────┤\n",
              "│ dense_1 (<span style=\"color: #0087ff; text-decoration-color: #0087ff\">Dense</span>)                      │ ?                           │     <span style=\"color: #00af00; text-decoration-color: #00af00\">0</span> (unbuilt) │\n",
              "└──────────────────────────────────────┴─────────────────────────────┴─────────────────┘\n",
              "</pre>\n"
            ]
          },
          "metadata": {}
        },
        {
          "output_type": "display_data",
          "data": {
            "text/plain": [
              "\u001b[1m Total params: \u001b[0m\u001b[38;5;34m0\u001b[0m (0.00 B)\n"
            ],
            "text/html": [
              "<pre style=\"white-space:pre;overflow-x:auto;line-height:normal;font-family:Menlo,'DejaVu Sans Mono',consolas,'Courier New',monospace\"><span style=\"font-weight: bold\"> Total params: </span><span style=\"color: #00af00; text-decoration-color: #00af00\">0</span> (0.00 B)\n",
              "</pre>\n"
            ]
          },
          "metadata": {}
        },
        {
          "output_type": "display_data",
          "data": {
            "text/plain": [
              "\u001b[1m Trainable params: \u001b[0m\u001b[38;5;34m0\u001b[0m (0.00 B)\n"
            ],
            "text/html": [
              "<pre style=\"white-space:pre;overflow-x:auto;line-height:normal;font-family:Menlo,'DejaVu Sans Mono',consolas,'Courier New',monospace\"><span style=\"font-weight: bold\"> Trainable params: </span><span style=\"color: #00af00; text-decoration-color: #00af00\">0</span> (0.00 B)\n",
              "</pre>\n"
            ]
          },
          "metadata": {}
        },
        {
          "output_type": "display_data",
          "data": {
            "text/plain": [
              "\u001b[1m Non-trainable params: \u001b[0m\u001b[38;5;34m0\u001b[0m (0.00 B)\n"
            ],
            "text/html": [
              "<pre style=\"white-space:pre;overflow-x:auto;line-height:normal;font-family:Menlo,'DejaVu Sans Mono',consolas,'Courier New',monospace\"><span style=\"font-weight: bold\"> Non-trainable params: </span><span style=\"color: #00af00; text-decoration-color: #00af00\">0</span> (0.00 B)\n",
              "</pre>\n"
            ]
          },
          "metadata": {}
        },
        {
          "output_type": "stream",
          "name": "stdout",
          "text": [
            "Epoch 1/5\n",
            "\u001b[1m627/627\u001b[0m \u001b[32m━━━━━━━━━━━━━━━━━━━━\u001b[0m\u001b[37m\u001b[0m \u001b[1m424s\u001b[0m 660ms/step - accuracy: 0.7277 - loss: 0.5088 - val_accuracy: 0.8991 - val_loss: 0.2685\n",
            "Epoch 2/5\n",
            "\u001b[1m627/627\u001b[0m \u001b[32m━━━━━━━━━━━━━━━━━━━━\u001b[0m\u001b[37m\u001b[0m \u001b[1m412s\u001b[0m 657ms/step - accuracy: 0.9160 - loss: 0.2232 - val_accuracy: 0.9416 - val_loss: 0.1460\n",
            "Epoch 3/5\n",
            "\u001b[1m627/627\u001b[0m \u001b[32m━━━━━━━━━━━━━━━━━━━━\u001b[0m\u001b[37m\u001b[0m \u001b[1m441s\u001b[0m 656ms/step - accuracy: 0.9606 - loss: 0.1109 - val_accuracy: 0.9515 - val_loss: 0.1263\n",
            "Epoch 4/5\n",
            "\u001b[1m627/627\u001b[0m \u001b[32m━━━━━━━━━━━━━━━━━━━━\u001b[0m\u001b[37m\u001b[0m \u001b[1m413s\u001b[0m 659ms/step - accuracy: 0.9774 - loss: 0.0654 - val_accuracy: 0.9503 - val_loss: 0.1444\n",
            "Epoch 5/5\n",
            "\u001b[1m627/627\u001b[0m \u001b[32m━━━━━━━━━━━━━━━━━━━━\u001b[0m\u001b[37m\u001b[0m \u001b[1m454s\u001b[0m 678ms/step - accuracy: 0.9900 - loss: 0.0333 - val_accuracy: 0.9496 - val_loss: 0.1513\n",
            "\u001b[1m392/392\u001b[0m \u001b[32m━━━━━━━━━━━━━━━━━━━━\u001b[0m\u001b[37m\u001b[0m \u001b[1m44s\u001b[0m 110ms/step\n",
            "Test Accuracy: 0.9494\n"
          ]
        },
        {
          "output_type": "display_data",
          "data": {
            "text/plain": [
              "<Figure size 640x480 with 2 Axes>"
            ],
            "image/png": "[encoded data removed]"
          },
          "metadata": {}
        },
        {
          "output_type": "display_data",
          "data": {
            "text/plain": [
              "<Figure size 640x480 with 1 Axes>"
            ],
            "image/png": "[encoded data removed]"
          },
          "metadata": {}
        }
      ]
    },
    {
      "cell_type": "code",
      "source": [
        "from transformers import BertTokenizer, BertForSequenceClassification, AdamW\n",
        "from torch.utils.data import DataLoader, TensorDataset\n",
        "import torch\n",
        "from sklearn.metrics import accuracy_score, confusion_matrix\n",
        "import matplotlib.pyplot as plt\n",
        "import seaborn as sns\n",
        "\n",
        "# Load BERT tokenizer and model\n",
        "tokenizer = BertTokenizer.from_pretrained('bert-base-uncased')\n",
        "model = BertForSequenceClassification.from_pretrained('bert-base-uncased', num_labels=2)\n",
        "\n",
        "# Tokenize data\n",
        "def encode_texts(texts, labels, max_len=128):\n",
        "    encodings = tokenizer(texts.tolist(), truncation=True, padding=True, max_length=max_len, return_tensors='pt')\n",
        "    return encodings['input_ids'], encodings['attention_mask'], torch.tensor(labels.tolist())\n",
        "\n",
        "# Prepare datasets\n",
        "train_input_ids, train_attention_mask, train_labels = encode_texts(train_df['cleaned_text'], train_df['label'])\n",
        "test_input_ids, test_attention_mask, test_labels = encode_texts(test_df['cleaned_text'], test_df['label'])\n",
        "\n",
        "train_dataset = TensorDataset(train_input_ids, train_attention_mask, train_labels)\n",
        "test_dataset = TensorDataset(test_input_ids, test_attention_mask, test_labels)\n",
        "\n",
        "train_loader = DataLoader(train_dataset, batch_size=16, shuffle=True)\n",
        "test_loader = DataLoader(test_dataset, batch_size=16)\n",
        "\n",
        "# Set up optimizer and device\n",
        "device = torch.device('cuda' if torch.cuda.is_available() else 'cpu')\n",
        "model.to(device)\n",
        "optimizer = AdamW(model.parameters(), lr=2e-5)\n",
        "\n",
        "# Training loop\n",
        "epochs = 3\n",
        "for epoch in range(epochs):\n",
        "    model.train()\n",
        "    total_loss = 0\n",
        "    for batch in train_loader:\n",
        "        input_ids, attention_mask, labels = tuple(t.to(device) for t in batch)\n",
        "        optimizer.zero_grad()\n",
        "        outputs = model(input_ids, attention_mask=attention_mask, labels=labels)\n",
        "        loss = outputs.loss\n",
        "        total_loss += loss.item()\n",
        "        loss.backward()\n",
        "        optimizer.step()\n",
        "    print(f\"Epoch {epoch + 1}, Loss: {total_loss / len(train_loader)}\")\n",
        "\n",
        "# Evaluation\n",
        "model.eval()\n",
        "y_pred, y_true = [], []\n",
        "with torch.no_grad():\n",
        "    for batch in test_loader:\n",
        "        input_ids, attention_mask, labels = tuple(t.to(device) for t in batch)\n",
        "        outputs = model(input_ids, attention_mask=attention_mask)\n",
        "        logits = outputs.logits\n",
        "        preds = torch.argmax(logits, dim=1).cpu().numpy()\n",
        "        y_pred.extend(preds)\n",
        "        y_true.extend(labels.cpu().numpy())\n",
        "\n",
        "# Metrics\n",
        "accuracy = accuracy_score(y_true, y_pred)\n",
        "print(f\"Test Accuracy: {accuracy:.4f}\")\n",
        "\n",
        "# Confusion Matrix\n",
        "cm = confusion_matrix(y_true, y_pred)\n",
        "sns.heatmap(cm, annot=True, fmt='d', cmap='Blues', xticklabels=['Fake', 'Real'], yticklabels=['Fake', 'Real'])\n",
        "plt.xlabel('Predicted')\n",
        "plt.ylabel('Actual')\n",
        "plt.title('Confusion Matrix (BERT)')\n",
        "plt.show()"
      ],
      "metadata": {
        "colab": {
          "base_uri": "https://localhost:8080/",
          "height": 631
        },
        "id": "wYb6Nk5rRCOQ",
        "outputId": "0a6a4f06-7991-4769-bda7-2fe68bb5a604"
      },
      "execution_count": null,
      "outputs": [
        {
          "output_type": "stream",
          "name": "stderr",
          "text": [
            "Some weights of BertForSequenceClassification were not initialized from the model checkpoint at bert-base-uncased and are newly initialized: ['classifier.bias', 'classifier.weight']\n",
            "You should probably TRAIN this model on a down-stream task to be able to use it for predictions and inference.\n",
            "/usr/local/lib/python3.11/dist-packages/transformers/optimization.py:591: FutureWarning: This implementation of AdamW is deprecated and will be removed in a future version. Use the PyTorch implementation torch.optim.AdamW instead, or set `no_deprecation_warning=True` to disable this warning\n",
            "  warnings.warn(\n"
          ]
        },
        {
          "output_type": "stream",
          "name": "stdout",
          "text": [
            "Epoch 1, Loss: 0.12130564713919924\n",
            "Epoch 2, Loss: 0.05079473479343721\n",
            "Epoch 3, Loss: 0.027075147231245933\n",
            "Test Accuracy: 0.9734\n"
          ]
        },
        {
          "output_type": "display_data",
          "data": {
            "text/plain": [
              "<Figure size 640x480 with 2 Axes>"
            ],
            "image/png": "[encoded data removed]"
          },
          "metadata": {}
        }
      ]
    },
    {
      "cell_type": "code",
      "source": [
        "# Truth Score (1-100 scale) based on confidence for 'Real' label (1)\n",
        "def calculate_truth_score(logits):\n",
        "    probs = torch.nn.functional.softmax(logits, dim=-1)\n",
        "    return (probs[:, 1] * 100).cpu().numpy()\n",
        "\n",
        "truth_scores = []\n",
        "with torch.no_grad():\n",
        "    for batch in test_loader:\n",
        "        input_ids, attention_mask = batch[0].to(device), batch[1].to(device)\n",
        "        outputs = model(input_ids, attention_mask=attention_mask)\n",
        "        scores = calculate_truth_score(outputs.logits)\n",
        "        truth_scores.extend(scores)\n",
        "\n",
        "# Show some results\n",
        "for i in range(5):\n",
        "    print(f\"\\nArticle {i + 1}:\")\n",
        "    print(f\"Title: {test_df.iloc[i]['title']}\")\n",
        "    print(f\"Predicted Truth Score: {truth_scores[i]:.2f}/100\")\n",
        "\n",
        "# Save the trained model\n",
        "model.save_pretrained('fine-tuned-bert')\n",
        "tokenizer.save_pretrained('fine-tuned-bert')\n",
        "\n",
        "# Zip and download the trained model\n",
        "!zip -r fine-tuned-bert.zip fine-tuned-bert\n",
        "from google.colab import files\n",
        "files.download('fine-tuned-bert.zip')"
      ],
      "metadata": {
        "colab": {
          "base_uri": "https://localhost:8080/",
          "height": 486
        },
        "id": "Ivn5uCPK_Mqy",
        "outputId": "46a1580d-3425-4df4-dfcf-4a19dccfd9e8"
      },
      "execution_count": null,
      "outputs": [
        {
          "output_type": "stream",
          "name": "stdout",
          "text": [
            "\n",
            "Article 1:\n",
            "Title: Senator Franken to resign on Thursday: Minnesota Public Radio\n",
            "Predicted Truth Score: 0.01/100\n",
            "\n",
            "Article 2:\n",
            "Title:  ‘No Real Logic’: French Translators Having A VERY Hard Time With Trump’s Limited Vocabulary\n",
            "Predicted Truth Score: 99.89/100\n",
            "\n",
            "Article 3:\n",
            "Title: Shaken by Sex Scandal, Oakland Police to Get New Leader, Again - The New York Times\n",
            "Predicted Truth Score: 0.03/100\n",
            "\n",
            "Article 4:\n",
            "Title:  Watch This Bible-Waving ‘Christian’ Lady March Through Target Ranting About Devil Rape (VIDEO)\n",
            "Predicted Truth Score: 99.99/100\n",
            "\n",
            "Article 5:\n",
            "Title: Japan, US, S.Korea Deputy FMs to Discuss N.Korea Nuclear Issue Thursday\n",
            "Predicted Truth Score: 90.87/100\n",
            "  adding: fine-tuned-bert/ (stored 0%)\n",
            "  adding: fine-tuned-bert/special_tokens_map.json (deflated 42%)\n",
            "  adding: fine-tuned-bert/config.json (deflated 49%)\n",
            "  adding: fine-tuned-bert/tokenizer_config.json (deflated 75%)\n",
            "  adding: fine-tuned-bert/model.safetensors (deflated 7%)\n",
            "  adding: fine-tuned-bert/vocab.txt (deflated 53%)\n"
          ]
        },
        {
          "output_type": "display_data",
          "data": {
            "text/plain": [
              "<IPython.core.display.Javascript object>"
            ],
            "application/javascript": [
              "\n",
              "    async function download(id, filename, size) {\n",
              "      if (!google.colab.kernel.accessAllowed) {\n",
              "        return;\n",
              "      }\n",
              "      const div = document.createElement('div');\n",
              "      const label = document.createElement('label');\n",
              "      label.textContent = `Downloading \"${filename}\": `;\n",
              "      div.appendChild(label);\n",
              "      const progress = document.createElement('progress');\n",
              "      progress.max = size;\n",
              "      div.appendChild(progress);\n",
              "      document.body.appendChild(div);\n",
              "\n",
              "      const buffers = [];\n",
              "      let downloaded = 0;\n",
              "\n",
              "      const channel = await google.colab.kernel.comms.open(id);\n",
              "      // Send a message to notify the kernel that we're ready.\n",
              "      channel.send({})\n",
              "\n",
              "      for await (const message of channel.messages) {\n",
              "        // Send a message to notify the kernel that we're ready.\n",
              "        channel.send({})\n",
              "        if (message.buffers) {\n",
              "          for (const buffer of message.buffers) {\n",
              "            buffers.push(buffer);\n",
              "            downloaded += buffer.byteLength;\n",
              "            progress.value = downloaded;\n",
              "          }\n",
              "        }\n",
              "      }\n",
              "      const blob = new Blob(buffers, {type: 'application/binary'});\n",
              "      const a = document.createElement('a');\n",
              "      a.href = window.URL.createObjectURL(blob);\n",
              "      a.download = filename;\n",
              "      div.appendChild(a);\n",
              "      a.click();\n",
              "      div.remove();\n",
              "    }\n",
              "  "
            ]
          },
          "metadata": {}
        },
        {
          "output_type": "display_data",
          "data": {
            "text/plain": [
              "<IPython.core.display.Javascript object>"
            ],
            "application/javascript": [
              "download(\"download_3e119057-fdff-45a4-b7e3-eca7dc9e01fb\", \"fine-tuned-bert.zip\", 405354799)"
            ]
          },
          "metadata": {}
        }
      ]
    }
  ]
}